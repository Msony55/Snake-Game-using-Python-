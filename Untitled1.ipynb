{
 "cells": [
  {
   "cell_type": "code",
   "execution_count": 1,
   "metadata": {},
   "outputs": [
    {
     "name": "stdout",
     "output_type": "stream",
     "text": [
      "Bangladesh India\n",
      "WI315/9 (50.0 Ovs)SL338/6 (50.0 Ovs)Sri Lanka won by 23 runs\n",
      "IRE258/6 (48.3 Ovs)ZIM254/9 (50.0 Ovs)Ireland won by 4 wkts\n",
      "England Women Australia Women\n",
      "Bangladesh India\n",
      "WI315/9 (50.0 Ovs)SL338/6 (50.0 Ovs)Sri Lanka won by 23 runs\n",
      "IRE258/6 (48.3 Ovs)ZIM254/9 (50.0 Ovs)Ireland won by 4 wkts\n",
      "England Women Australia Women\n",
      "Bangladesh India\n",
      "WI315/9 (50.0 Ovs)SL338/6 (50.0 Ovs)Sri Lanka won by 23 runs\n",
      "PAKU..65/2 (10.0 Ovs)RSAU..Pakistan U19 opt to bat\n",
      "SUR362-all out (107.4 Ovs)YORK..327Day 2: Stumps - Surrey lead by 35 runs\n",
      "WARK..142/0 (47.0 Ovs)KENT585/7 declDay 2: Stumps - Warwickshire trail by 443 runs\n",
      "HAM329/8 (102.0 Ovs)SOM408Day 2: Stumps - Hampshire trail by 79 runs\n",
      "ESS345/3 (120.0 Ovs)NOTT..213Day 2: Stumps - Essex lead by 132 runs\n",
      "MDX135/3 (45.0 Ovs)DERB..557/6 declDay 2: Stumps - Middlesex trail by 422 runs\n",
      "WORC..191/5 (69.0 Ovs)GLAM449Day 2: Stumps - Worcestershire trail by 258 runs\n",
      "NOR273, 212/4 (56.0 Ovs)SUS106Day 2: Stumps - Northamptonshire lead by 379 runs\n",
      "DUR199/5 (72.0 Ovs)LANC..337Day 2: Stumps - Durham trail by 138 runs\n",
      "Gloucestershire Australia A\n"
     ]
    }
   ],
   "source": [
    "from bs4 import BeautifulSoup\n",
    "import requests\n",
    "url = requests.get(\"https://www.cricbuzz.com\")\n",
    "url.text\n",
    "Soup=url.text\n",
    "s=BeautifulSoup(Soup,'html.parser')\n",
    "for i in s.find_all(\"div\",{\"class\":\"cb-col cb-col-25 cb-mtch-blk\"}):\n",
    "    print(i.text) "
   ]
  },
  {
   "cell_type": "code",
   "execution_count": null,
   "metadata": {},
   "outputs": [],
   "source": []
  }
 ],
 "metadata": {
  "kernelspec": {
   "display_name": "Python 3",
   "language": "python",
   "name": "python3"
  },
  "language_info": {
   "codemirror_mode": {
    "name": "ipython",
    "version": 3
   },
   "file_extension": ".py",
   "mimetype": "text/x-python",
   "name": "python",
   "nbconvert_exporter": "python",
   "pygments_lexer": "ipython3",
   "version": "3.7.3"
  }
 },
 "nbformat": 4,
 "nbformat_minor": 2
}
